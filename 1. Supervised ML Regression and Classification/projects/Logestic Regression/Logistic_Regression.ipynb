{
 "cells": [
  {
   "cell_type": "markdown",
   "metadata": {},
   "source": [
    "### Task\n",
    "Summary: Predict if an apple is rotten or not based on the features of the apple."
   ]
  },
  {
   "cell_type": "markdown",
   "metadata": {},
   "source": [
    "preprocess the data to get the following features:\n",
    "- `x` : the input data, a 2D array of shape (n_samples, n_features)\n",
    "- `y` : the target labels, a 1D array of shape (n_samples,)\n",
    "- `X_test` : the input data for the test set, a 2D array of shape (n_samples, n_features)\n",
    "- `y_test` : the target labels for the test set, a 1D array of shape (n_samples,)\n",
    "- `X_train` : the input data for the training set, a 2D array of shape (n_samples, n_features)\n",
    "- `y_train` : the target labels for the training set, a 1D array of shape (n_samples,)\n",
    "\n",
    "The task is to predict whether an apple is rotten or not. The dataset contains 6 features:\n",
    "Size,Weight,Sweetness,Crunchiness,Juiciness,Ripeness,Acidity\n",
    "- `Size` : the size of the apple\n",
    "- `Weight` : the weight of the apple\n",
    "- `Sweetness` : the sweetness of the apple\n",
    "- `Crunchiness` : the crunchiness of the apple\n",
    "- `Juiciness` : the juiciness of the apple\n",
    "- `Ripeness` : the ripeness of the apple\n",
    "- `Acidity` : the acidity of the apple\n",
    "\n",
    "The target is:\n",
    "- `1` : the apple is rotten\n",
    "- `0` : the apple is not rotten\n",
    "\n",
    "Dataset:\n",
    "- [Apple_Quality](https://www.kaggle.com/datasets/nelgiriyewithana/apple-quality) on kaggle"
   ]
  },
  {
   "cell_type": "code",
   "execution_count": null,
   "metadata": {},
   "outputs": [],
   "source": [
    "import numpy as np\n",
    "import pandas as pd\n",
    "import seaborn as sns\n",
    "import matplotlib.pyplot as plt\n",
    "\n",
    "from Logistic_Regression import LogisticRegression\n",
    "from sklearn.linear_model import LogisticRegression as sk_LogisticRegression\n",
    "\n",
    "from sklearn.calibration import LabelEncoder\n",
    "from sklearn.model_selection import train_test_split\n",
    "from sklearn.metrics import confusion_matrix"
   ]
  },
  {
   "cell_type": "code",
   "execution_count": 2,
   "metadata": {},
   "outputs": [
    {
     "data": {
      "text/html": [
       "<div>\n",
       "<style scoped>\n",
       "    .dataframe tbody tr th:only-of-type {\n",
       "        vertical-align: middle;\n",
       "    }\n",
       "\n",
       "    .dataframe tbody tr th {\n",
       "        vertical-align: top;\n",
       "    }\n",
       "\n",
       "    .dataframe thead th {\n",
       "        text-align: right;\n",
       "    }\n",
       "</style>\n",
       "<table border=\"1\" class=\"dataframe\">\n",
       "  <thead>\n",
       "    <tr style=\"text-align: right;\">\n",
       "      <th></th>\n",
       "      <th>A_id</th>\n",
       "      <th>Size</th>\n",
       "      <th>Weight</th>\n",
       "      <th>Sweetness</th>\n",
       "      <th>Crunchiness</th>\n",
       "      <th>Juiciness</th>\n",
       "      <th>Ripeness</th>\n",
       "      <th>Acidity</th>\n",
       "      <th>Quality</th>\n",
       "    </tr>\n",
       "  </thead>\n",
       "  <tbody>\n",
       "    <tr>\n",
       "      <th>0</th>\n",
       "      <td>0</td>\n",
       "      <td>-3.970049</td>\n",
       "      <td>-2.512336</td>\n",
       "      <td>5.346330</td>\n",
       "      <td>-1.012009</td>\n",
       "      <td>1.844900</td>\n",
       "      <td>0.329840</td>\n",
       "      <td>-0.491590</td>\n",
       "      <td>good</td>\n",
       "    </tr>\n",
       "    <tr>\n",
       "      <th>1</th>\n",
       "      <td>1</td>\n",
       "      <td>-1.195217</td>\n",
       "      <td>-2.839257</td>\n",
       "      <td>3.664059</td>\n",
       "      <td>1.588232</td>\n",
       "      <td>0.853286</td>\n",
       "      <td>0.867530</td>\n",
       "      <td>-0.722809</td>\n",
       "      <td>good</td>\n",
       "    </tr>\n",
       "    <tr>\n",
       "      <th>2</th>\n",
       "      <td>2</td>\n",
       "      <td>-0.292024</td>\n",
       "      <td>-1.351282</td>\n",
       "      <td>-1.738429</td>\n",
       "      <td>-0.342616</td>\n",
       "      <td>2.838636</td>\n",
       "      <td>-0.038033</td>\n",
       "      <td>2.621636</td>\n",
       "      <td>bad</td>\n",
       "    </tr>\n",
       "    <tr>\n",
       "      <th>3</th>\n",
       "      <td>3</td>\n",
       "      <td>-0.657196</td>\n",
       "      <td>-2.271627</td>\n",
       "      <td>1.324874</td>\n",
       "      <td>-0.097875</td>\n",
       "      <td>3.637970</td>\n",
       "      <td>-3.413761</td>\n",
       "      <td>0.790723</td>\n",
       "      <td>good</td>\n",
       "    </tr>\n",
       "    <tr>\n",
       "      <th>4</th>\n",
       "      <td>4</td>\n",
       "      <td>1.364217</td>\n",
       "      <td>-1.296612</td>\n",
       "      <td>-0.384658</td>\n",
       "      <td>-0.553006</td>\n",
       "      <td>3.030874</td>\n",
       "      <td>-1.303849</td>\n",
       "      <td>0.501984</td>\n",
       "      <td>good</td>\n",
       "    </tr>\n",
       "  </tbody>\n",
       "</table>\n",
       "</div>"
      ],
      "text/plain": [
       "   A_id      Size    Weight  Sweetness  Crunchiness  Juiciness  Ripeness  \\\n",
       "0     0 -3.970049 -2.512336   5.346330    -1.012009   1.844900  0.329840   \n",
       "1     1 -1.195217 -2.839257   3.664059     1.588232   0.853286  0.867530   \n",
       "2     2 -0.292024 -1.351282  -1.738429    -0.342616   2.838636 -0.038033   \n",
       "3     3 -0.657196 -2.271627   1.324874    -0.097875   3.637970 -3.413761   \n",
       "4     4  1.364217 -1.296612  -0.384658    -0.553006   3.030874 -1.303849   \n",
       "\n",
       "    Acidity Quality  \n",
       "0 -0.491590    good  \n",
       "1 -0.722809    good  \n",
       "2  2.621636     bad  \n",
       "3  0.790723    good  \n",
       "4  0.501984    good  "
      ]
     },
     "execution_count": 2,
     "metadata": {},
     "output_type": "execute_result"
    }
   ],
   "source": [
    "data = pd.read_csv('../data/apple_quality.csv')\n",
    "data.head()"
   ]
  },
  {
   "cell_type": "markdown",
   "metadata": {},
   "source": [
    "Dataset info"
   ]
  },
  {
   "cell_type": "code",
   "execution_count": 3,
   "metadata": {},
   "outputs": [
    {
     "name": "stdout",
     "output_type": "stream",
     "text": [
      "# missing values: 0\n",
      "# rows: 4000\n",
      "max value: 7.619851801 \n",
      "min value: -7.151703059\n"
     ]
    }
   ],
   "source": [
    "print('# missing values:', np.sum(data.isnull().sum())) # No missing values\n",
    "print('# rows:', data.shape[0]) # 4000 rows\n",
    "num_data = data.drop(['Quality', 'A_id'], axis=1) # Remove the target(string) column\n",
    "print('max value:', num_data.max().max(), '\\nmin value:', num_data.min().min()) "
   ]
  },
  {
   "cell_type": "code",
   "execution_count": 4,
   "metadata": {},
   "outputs": [],
   "source": [
    "# Split the data into train and test\n",
    "X = data.drop(['Quality', 'A_id'], axis=1)\n",
    "y = data['Quality']\n",
    "\n",
    "# split the data\n",
    "X_train, X_test, y_train, y_test = train_test_split(X, y, test_size=0.2, random_state=42)\n",
    "\n",
    "# Convert to numpy array\n",
    "X_train = X_train.to_numpy()\n",
    "y_train = y_train.to_numpy()\n",
    "X_test = X_test.to_numpy()"
   ]
  },
  {
   "cell_type": "code",
   "execution_count": 5,
   "metadata": {},
   "outputs": [],
   "source": [
    "# encode the target labels\n",
    "label_encoder = LabelEncoder()\n",
    "\n",
    "# Fit and transform the target labels\n",
    "y_train = label_encoder.fit_transform(y_train)\n",
    "y_test = label_encoder.transform(y_test)"
   ]
  },
  {
   "cell_type": "code",
   "execution_count": 6,
   "metadata": {},
   "outputs": [
    {
     "name": "stdout",
     "output_type": "stream",
     "text": [
      "Weights:\n",
      "\tSklearn: [ 0.63861714  0.25570217  0.57483747  0.02221652  0.43746469 -0.12948912\n",
      " -0.31326814] \n",
      "\tMy Model: [ 0.56526206  0.19674639  0.52957378  0.17293024  0.48571931 -0.09664784\n",
      " -0.30546986]\n",
      "Intercept:\n",
      "\tSklearn: 0.6418929149066527 \n",
      "\tMy Model: 0.19735014131667525\n",
      "# Iterations:\n",
      "\tSklearn: 12 \n",
      "\tMy Model: 91\n"
     ]
    }
   ],
   "source": [
    "# Scikit-learn's Logistic Regression\n",
    "sk_lr = sk_LogisticRegression(max_iter=100000, C=0.1, penalty=\"l2\", random_state=42, solver=\"lbfgs\")\n",
    "sk_lr.fit(X_train, y_train)\n",
    "\n",
    "# My Logistic regression\n",
    "my_lr = LogisticRegression(max_iter=100000, C=0.1, penalty=\"l2\", random_state=42)\n",
    "my_lr.fit(X_train, y_train)\n",
    "\n",
    "print('Weights:\\n\\tSklearn:', sk_lr.coef_[0], '\\n\\tMy Model:', my_lr.coef_)\n",
    "print('Intercept:\\n\\tSklearn:', sk_lr.intercept_[0], '\\n\\tMy Model:', my_lr.bias_)\n",
    "print('# Iterations:\\n\\tSklearn:', sk_lr.n_iter_[0], '\\n\\tMy Model:', my_lr.n_iters_)"
   ]
  },
  {
   "cell_type": "code",
   "execution_count": 7,
   "metadata": {},
   "outputs": [],
   "source": [
    "y_pred = my_lr.predict(X_test)\n",
    "s_y_pred = sk_lr.predict(X_test)"
   ]
  },
  {
   "cell_type": "code",
   "execution_count": 8,
   "metadata": {},
   "outputs": [
    {
     "name": "stdout",
     "output_type": "stream",
     "text": [
      "Sklearn:\n",
      "\tTest Accuracy: 75.38%\n",
      "My Model:\n",
      "\tTest Accuracy: 74.75%\n"
     ]
    }
   ],
   "source": [
    "s_test_accuracy  = sk_lr.score(X_test, y_test)\n",
    "\n",
    "test_accuracy  = my_lr.score(X_test, y_test)\n",
    "\n",
    "print(f'Sklearn:\\n\\tTest Accuracy: {s_test_accuracy  * 100:.2f}%')\n",
    "print(f'My Model:\\n\\tTest Accuracy: {test_accuracy  * 100:.2f}%')"
   ]
  },
  {
   "cell_type": "code",
   "execution_count": 9,
   "metadata": {},
   "outputs": [
    {
     "data": {
      "image/png": "[encoded data removed]",
      "text/plain": [
       "<Figure size 1200x500 with 4 Axes>"
      ]
     },
     "metadata": {},
     "output_type": "display_data"
    }
   ],
   "source": [
    "# Confusion matrices\n",
    "conf_matrix = confusion_matrix(y_test, y_pred)\n",
    "sk_conf_matrix = confusion_matrix(y_test, s_y_pred)\n",
    "\n",
    "# To Plot both confusion matrices side by side\n",
    "plt.figure(figsize=(12, 5))\n",
    "\n",
    "# Confusion matrix for my model\n",
    "plt.subplot(1, 2, 1)\n",
    "sns.heatmap(conf_matrix, annot=True, fmt='d', cmap='Blues')\n",
    "plt.xlabel('Predicted')\n",
    "plt.ylabel('True')\n",
    "plt.title('My Model\\'s Confusion Matrix')\n",
    "\n",
    "# Confusion matrix for scikit-learn's model\n",
    "plt.subplot(1, 2, 2)\n",
    "sns.heatmap(sk_conf_matrix, annot=True, fmt='d', cmap='Blues')\n",
    "plt.xlabel('Predicted')\n",
    "plt.ylabel('True')\n",
    "plt.title('Scikit-learn\\'s Confusion Matrix')\n",
    "\n",
    "plt.tight_layout()\n",
    "plt.show()"
   ]
  }
 ],
 "metadata": {
  "kernelspec": {
   "display_name": "py310",
   "language": "python",
   "name": "python3"
  },
  "language_info": {
   "codemirror_mode": {
    "name": "ipython",
    "version": 3
   },
   "file_extension": ".py",
   "mimetype": "text/x-python",
   "name": "python",
   "nbconvert_exporter": "python",
   "pygments_lexer": "ipython3",
   "version": "3.10.13"
  }
 },
 "nbformat": 4,
 "nbformat_minor": 2
}
